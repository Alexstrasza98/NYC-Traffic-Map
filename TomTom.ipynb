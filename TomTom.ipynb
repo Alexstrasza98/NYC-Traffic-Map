{
 "cells": [
  {
   "cell_type": "markdown",
   "metadata": {},
   "source": [
    "## 1.如何用坐标点位置信息获取道路traffic flow速度\n",
    "\n",
    "\n",
    "This demo shows how to use a location information to locate \n",
    "\n",
    "\n",
    "至于如何获取坐标点信息：\n",
    "\n",
    "TomTom provides a number of ways to obtain location information that can be used with their APIs. Here are some options:\n",
    "\n",
    "1. Latitude and longitude coordinates: The most common way to specify a location for TomTom APIs is by providing the latitude and longitude coordinates of the location. You can obtain latitude and longitude coordinates from many sources, including GPS devices, Google Maps, or other mapping tools.\n",
    "\n",
    "2. Addresses: TomTom also provides geocoding services that can convert a postal address to a latitude and longitude coordinate. This can be useful if you have an address but not the coordinates.\n",
    "\n",
    "3. Points of Interest (POI): TomTom maintains a comprehensive database of points of interest, which can be used to find the location of a particular place or business. You can search for POIs by name, category, or proximity to a location.\n",
    "\n",
    "4. Geofencing: TomTom's geofencing service allows you to define a virtual boundary around a physical location, such as a building or park. You can use this service to monitor when a vehicle or person enters or exits a defined area.\n",
    "\n",
    "To use these location-based services, you will need to have an API key and follow the API documentation to make requests and receive responses. TomTom provides a wealth of documentation and examples to help you get started."
   ]
  },
  {
   "cell_type": "code",
   "execution_count": 6,
   "metadata": {},
   "outputs": [
    {
     "name": "stdout",
     "output_type": "stream",
     "text": [
      "<Response [200]>\n",
      "Current traffic flow: 46 km/h\n"
     ]
    }
   ],
   "source": [
    "import requests\n",
    "import json\n",
    "\n",
    "# Set parameters\n",
    "location = \"52.379189,4.899431\" # Amsterdam Dam Square coordinates\n",
    "zoom = 15\n",
    "apikey = \"0ZJZWfM7SDILmyi6q62bOuabIwhSDTBo\"\n",
    "\n",
    "# Build URL\n",
    "url = f\"https://api.tomtom.com/traffic/services/4/flowSegmentData/absolute/10/json?point={location}&zoom={zoom}&key={apikey}\"\n",
    "\n",
    "# Send request and parse response\n",
    "response = requests.get(url)\n",
    "print(response)\n",
    "data = json.loads(response.text)\n",
    "traffic_flow = data[\"flowSegmentData\"][\"currentSpeed\"]\n",
    "print(f\"Current traffic flow: {traffic_flow} km/h\")\n"
   ]
  },
  {
   "cell_type": "markdown",
   "metadata": {},
   "source": [
    "## 2.traffic accident api 应用\n"
   ]
  },
  {
   "cell_type": "code",
   "execution_count": 15,
   "metadata": {},
   "outputs": [
    {
     "name": "stdout",
     "output_type": "stream",
     "text": [
      "<Response [200]>\n",
      "{'incidents': [{'type': 'Feature', 'properties': {'iconCategory': 8}, 'geometry': {'type': 'LineString', 'coordinates': [[4.8893679271, 52.3715365312], [4.8897166142, 52.3715780851], [4.8902865837, 52.371635759]]}}, {'type': 'Feature', 'properties': {'iconCategory': 8}, 'geometry': {'type': 'LineString', 'coordinates': [[4.8905708978, 52.3716625745], [4.8902865837, 52.371635759], [4.8897166142, 52.3715780851], [4.8893679271, 52.3715365312]]}}, {'type': 'Feature', 'properties': {'iconCategory': 9}, 'geometry': {'type': 'LineString', 'coordinates': [[4.8906366119, 52.3731350995], [4.8906258831, 52.3731458458], [4.8906044254, 52.3731646262], [4.8905266414, 52.3731887798], [4.8904555628, 52.3732115517], [4.8903415689, 52.3732383663], [4.8901994119, 52.3732396968]]}}, {'type': 'Feature', 'properties': {'iconCategory': 9}, 'geometry': {'type': 'LineString', 'coordinates': [[4.8916183004, 52.3748289415], [4.8914265225, 52.3746304489], [4.8912709544, 52.3744601509], [4.8911690304, 52.3743474714], [4.891112704, 52.3742857585], [4.8910536954, 52.3742200542], [4.8909571359, 52.3741181201], [4.8909155617, 52.3740725261], [4.8908444831, 52.3739934144], [4.8908096144, 52.3739424471], [4.8907117138, 52.3737533662], [4.890650023, 52.3736205742], [4.8906352708, 52.3735883868], [4.89057358, 52.3734596881], [4.8905440757, 52.3734167543], [4.8905105481, 52.3733631254], [4.8904797027, 52.3733282256], [4.8904461751, 52.3733000806], [4.8904086242, 52.3732745966], [4.8903415689, 52.3732383663]]}}, {'type': 'Feature', 'properties': {'iconCategory': 8}, 'geometry': {'type': 'LineString', 'coordinates': [[4.8922593484, 52.3695825333], [4.8922620306, 52.3695879069], [4.8923787067, 52.369797118], [4.8924296687, 52.3698788984], [4.8924739251, 52.3699499828], [4.8925704846, 52.3701484964], [4.8926348577, 52.3703295068], [4.8927394638, 52.3707090788], [4.8927609215, 52.3707935698], [4.892793108, 52.3708954603], [4.8928293178, 52.3710402868], [4.8928346822, 52.3710644415], [4.8928601632, 52.3711851639], [4.8928775976, 52.3713179121], [4.8928869853, 52.371393037], [4.8928655276, 52.3717202482], [4.8928521166, 52.3718221878]]}}]}\n",
      "Type: Feature\n",
      "Location: [[4.8893679271, 52.3715365312], [4.8897166142, 52.3715780851], [4.8902865837, 52.371635759]]\n",
      "\n",
      "Type: Feature\n",
      "Location: [[4.8905708978, 52.3716625745], [4.8902865837, 52.371635759], [4.8897166142, 52.3715780851], [4.8893679271, 52.3715365312]]\n",
      "\n",
      "Type: Feature\n",
      "Location: [[4.8906366119, 52.3731350995], [4.8906258831, 52.3731458458], [4.8906044254, 52.3731646262], [4.8905266414, 52.3731887798], [4.8904555628, 52.3732115517], [4.8903415689, 52.3732383663], [4.8901994119, 52.3732396968]]\n",
      "\n",
      "Type: Feature\n",
      "Location: [[4.8916183004, 52.3748289415], [4.8914265225, 52.3746304489], [4.8912709544, 52.3744601509], [4.8911690304, 52.3743474714], [4.891112704, 52.3742857585], [4.8910536954, 52.3742200542], [4.8909571359, 52.3741181201], [4.8909155617, 52.3740725261], [4.8908444831, 52.3739934144], [4.8908096144, 52.3739424471], [4.8907117138, 52.3737533662], [4.890650023, 52.3736205742], [4.8906352708, 52.3735883868], [4.89057358, 52.3734596881], [4.8905440757, 52.3734167543], [4.8905105481, 52.3733631254], [4.8904797027, 52.3733282256], [4.8904461751, 52.3733000806], [4.8904086242, 52.3732745966], [4.8903415689, 52.3732383663]]\n",
      "\n",
      "Type: Feature\n",
      "Location: [[4.8922593484, 52.3695825333], [4.8922620306, 52.3695879069], [4.8923787067, 52.369797118], [4.8924296687, 52.3698788984], [4.8924739251, 52.3699499828], [4.8925704846, 52.3701484964], [4.8926348577, 52.3703295068], [4.8927394638, 52.3707090788], [4.8927609215, 52.3707935698], [4.892793108, 52.3708954603], [4.8928293178, 52.3710402868], [4.8928346822, 52.3710644415], [4.8928601632, 52.3711851639], [4.8928775976, 52.3713179121], [4.8928869853, 52.371393037], [4.8928655276, 52.3717202482], [4.8928521166, 52.3718221878]]\n",
      "\n"
     ]
    }
   ],
   "source": [
    "# Set parameters\n",
    "location = \"52.379189,4.899431\" # Amsterdam Dam Square coordinates\n",
    "radius = 5000 # 5km radius\n",
    "\n",
    "# Build URL\n",
    "# url = f\"https://api.tomtom.com/traffic/services/4/incidentDetails/s3/{location}/{radius}/10/json?key={apikey}\"\n",
    "# url = f\"https://api.tomtom.com/traffic/services/4/incidentViewport/-939584.4813015489,-23954526.723651607,14675583.153020501,25043442.895825107/2/-939584.4813015489,-23954526.723651607,14675583.153020501,25043442.895825107/2/true/json?key={apikey}\"\n",
    "url = f\"https://api.tomtom.com/traffic/services/5/incidentDetails?key={apikey}&bbox=4.8854592519716675,52.36934334773164,4.897883244144765,52.37496348620152&language=en-GB&t=1111&timeValidityFilter=present\"\n",
    "# Send request and parse response\n",
    "response = requests.get(url)\n",
    "print(response)\n",
    "data = json.loads(response.text)\n",
    "print(data)\n",
    "accidents = data[\"incidents\"]\n",
    "\n",
    "# Print accident details\n",
    "for accident in accidents:\n",
    "    print(f\"Type: {accident['type']}\")\n",
    "    # print(f\"Description: {accident['text']}\")\n",
    "    # print(f\"Location: {accident['from']} to {accident['to']}\")\n",
    "    print(f\"Location: {accident['geometry']['coordinates']}\")\n",
    "    print()\n"
   ]
  },
  {
   "cell_type": "code",
   "execution_count": 11,
   "metadata": {},
   "outputs": [
    {
     "name": "stdout",
     "output_type": "stream",
     "text": [
      "<Response [400]>\n"
     ]
    },
    {
     "ename": "JSONDecodeError",
     "evalue": "Expecting value: line 1 column 1 (char 0)",
     "output_type": "error",
     "traceback": [
      "\u001b[0;31m---------------------------------------------------------------------------\u001b[0m",
      "\u001b[0;31mJSONDecodeError\u001b[0m                           Traceback (most recent call last)",
      "File \u001b[0;32m~/Library/Python/3.8/lib/python/site-packages/requests/models.py:971\u001b[0m, in \u001b[0;36mResponse.json\u001b[0;34m(self, **kwargs)\u001b[0m\n\u001b[1;32m    970\u001b[0m \u001b[39mtry\u001b[39;00m:\n\u001b[0;32m--> 971\u001b[0m     \u001b[39mreturn\u001b[39;00m complexjson\u001b[39m.\u001b[39;49mloads(\u001b[39mself\u001b[39;49m\u001b[39m.\u001b[39;49mtext, \u001b[39m*\u001b[39;49m\u001b[39m*\u001b[39;49mkwargs)\n\u001b[1;32m    972\u001b[0m \u001b[39mexcept\u001b[39;00m JSONDecodeError \u001b[39mas\u001b[39;00m e:\n\u001b[1;32m    973\u001b[0m     \u001b[39m# Catch JSON-related errors and raise as requests.JSONDecodeError\u001b[39;00m\n\u001b[1;32m    974\u001b[0m     \u001b[39m# This aliases json.JSONDecodeError and simplejson.JSONDecodeError\u001b[39;00m\n",
      "File \u001b[0;32m/Applications/Xcode.app/Contents/Developer/Library/Frameworks/Python3.framework/Versions/3.8/lib/python3.8/json/__init__.py:357\u001b[0m, in \u001b[0;36mloads\u001b[0;34m(s, cls, object_hook, parse_float, parse_int, parse_constant, object_pairs_hook, **kw)\u001b[0m\n\u001b[1;32m    354\u001b[0m \u001b[39mif\u001b[39;00m (\u001b[39mcls\u001b[39m \u001b[39mis\u001b[39;00m \u001b[39mNone\u001b[39;00m \u001b[39mand\u001b[39;00m object_hook \u001b[39mis\u001b[39;00m \u001b[39mNone\u001b[39;00m \u001b[39mand\u001b[39;00m\n\u001b[1;32m    355\u001b[0m         parse_int \u001b[39mis\u001b[39;00m \u001b[39mNone\u001b[39;00m \u001b[39mand\u001b[39;00m parse_float \u001b[39mis\u001b[39;00m \u001b[39mNone\u001b[39;00m \u001b[39mand\u001b[39;00m\n\u001b[1;32m    356\u001b[0m         parse_constant \u001b[39mis\u001b[39;00m \u001b[39mNone\u001b[39;00m \u001b[39mand\u001b[39;00m object_pairs_hook \u001b[39mis\u001b[39;00m \u001b[39mNone\u001b[39;00m \u001b[39mand\u001b[39;00m \u001b[39mnot\u001b[39;00m kw):\n\u001b[0;32m--> 357\u001b[0m     \u001b[39mreturn\u001b[39;00m _default_decoder\u001b[39m.\u001b[39;49mdecode(s)\n\u001b[1;32m    358\u001b[0m \u001b[39mif\u001b[39;00m \u001b[39mcls\u001b[39m \u001b[39mis\u001b[39;00m \u001b[39mNone\u001b[39;00m:\n",
      "File \u001b[0;32m/Applications/Xcode.app/Contents/Developer/Library/Frameworks/Python3.framework/Versions/3.8/lib/python3.8/json/decoder.py:337\u001b[0m, in \u001b[0;36mJSONDecoder.decode\u001b[0;34m(self, s, _w)\u001b[0m\n\u001b[1;32m    333\u001b[0m \u001b[39m\"\"\"Return the Python representation of ``s`` (a ``str`` instance\u001b[39;00m\n\u001b[1;32m    334\u001b[0m \u001b[39mcontaining a JSON document).\u001b[39;00m\n\u001b[1;32m    335\u001b[0m \n\u001b[1;32m    336\u001b[0m \u001b[39m\"\"\"\u001b[39;00m\n\u001b[0;32m--> 337\u001b[0m obj, end \u001b[39m=\u001b[39m \u001b[39mself\u001b[39;49m\u001b[39m.\u001b[39;49mraw_decode(s, idx\u001b[39m=\u001b[39;49m_w(s, \u001b[39m0\u001b[39;49m)\u001b[39m.\u001b[39;49mend())\n\u001b[1;32m    338\u001b[0m end \u001b[39m=\u001b[39m _w(s, end)\u001b[39m.\u001b[39mend()\n",
      "File \u001b[0;32m/Applications/Xcode.app/Contents/Developer/Library/Frameworks/Python3.framework/Versions/3.8/lib/python3.8/json/decoder.py:355\u001b[0m, in \u001b[0;36mJSONDecoder.raw_decode\u001b[0;34m(self, s, idx)\u001b[0m\n\u001b[1;32m    354\u001b[0m \u001b[39mexcept\u001b[39;00m \u001b[39mStopIteration\u001b[39;00m \u001b[39mas\u001b[39;00m err:\n\u001b[0;32m--> 355\u001b[0m     \u001b[39mraise\u001b[39;00m JSONDecodeError(\u001b[39m\"\u001b[39m\u001b[39mExpecting value\u001b[39m\u001b[39m\"\u001b[39m, s, err\u001b[39m.\u001b[39mvalue) \u001b[39mfrom\u001b[39;00m \u001b[39mNone\u001b[39m\n\u001b[1;32m    356\u001b[0m \u001b[39mreturn\u001b[39;00m obj, end\n",
      "\u001b[0;31mJSONDecodeError\u001b[0m: Expecting value: line 1 column 1 (char 0)",
      "\nDuring handling of the above exception, another exception occurred:\n",
      "\u001b[0;31mJSONDecodeError\u001b[0m                           Traceback (most recent call last)",
      "Cell \u001b[0;32mIn [11], line 19\u001b[0m\n\u001b[1;32m     17\u001b[0m response \u001b[38;5;241m=\u001b[39m requests\u001b[38;5;241m.\u001b[39mget(api_url, params\u001b[38;5;241m=\u001b[39mapi_params)\n\u001b[1;32m     18\u001b[0m \u001b[38;5;28mprint\u001b[39m(response)\n\u001b[0;32m---> 19\u001b[0m data \u001b[38;5;241m=\u001b[39m response\u001b[38;5;241m.\u001b[39mjson()\n\u001b[1;32m     21\u001b[0m \u001b[38;5;66;03m# Process the response and extract the accident data\u001b[39;00m\n\u001b[1;32m     22\u001b[0m accidents \u001b[38;5;241m=\u001b[39m []\n",
      "File \u001b[0;32m~/Library/Python/3.8/lib/python/site-packages/requests/models.py:975\u001b[0m, in \u001b[0;36mResponse.json\u001b[0;34m(self, **kwargs)\u001b[0m\n\u001b[1;32m    971\u001b[0m     \u001b[39mreturn\u001b[39;00m complexjson\u001b[39m.\u001b[39mloads(\u001b[39mself\u001b[39m\u001b[39m.\u001b[39mtext, \u001b[39m*\u001b[39m\u001b[39m*\u001b[39mkwargs)\n\u001b[1;32m    972\u001b[0m \u001b[39mexcept\u001b[39;00m JSONDecodeError \u001b[39mas\u001b[39;00m e:\n\u001b[1;32m    973\u001b[0m     \u001b[39m# Catch JSON-related errors and raise as requests.JSONDecodeError\u001b[39;00m\n\u001b[1;32m    974\u001b[0m     \u001b[39m# This aliases json.JSONDecodeError and simplejson.JSONDecodeError\u001b[39;00m\n\u001b[0;32m--> 975\u001b[0m     \u001b[39mraise\u001b[39;00m RequestsJSONDecodeError(e\u001b[39m.\u001b[39mmsg, e\u001b[39m.\u001b[39mdoc, e\u001b[39m.\u001b[39mpos)\n",
      "\u001b[0;31mJSONDecodeError\u001b[0m: Expecting value: line 1 column 1 (char 0)"
     ]
    }
   ],
   "source": [
    "import requests\n",
    "\n",
    "# Specify the region of interest\n",
    "bbox = \"-122.4142,37.747,-122.3909,37.7843\" # San Francisco\n",
    "\n",
    "# Set up the API endpoint and parameters\n",
    "api_url = \"https://api.tomtom.com/traffic/services/4/incidentDetails/s3/\"\n",
    "api_params = {\n",
    "    \"bbox\": bbox,\n",
    "    \"key\": \"0ZJZWfM7SDILmyi6q62bOuabIwhSDTBo\",\n",
    "    \"expandCluster\": \"true\",\n",
    "    \"projection\": \"EPSG4326\",\n",
    "    \"zoom\": \"15\"\n",
    "}\n",
    "\n",
    "# Send the request and get the response\n",
    "response = requests.get(api_url, params=api_params)\n",
    "print(response)\n",
    "data = response.json()\n",
    "\n",
    "# Process the response and extract the accident data\n",
    "accidents = []\n",
    "for incident in data[\"tm\"][\"poi\"]:\n",
    "    if incident[\"type\"] == \"Accident\":\n",
    "        accidents.append({\n",
    "            \"latitude\": incident[\"point\"][\"latitude\"],\n",
    "            \"longitude\": incident[\"point\"][\"longitude\"],\n",
    "            \"description\": incident[\"description\"]\n",
    "        })\n",
    "\n",
    "# Print the accident data\n",
    "print(accidents)\n"
   ]
  }
 ],
 "metadata": {
  "kernelspec": {
   "display_name": "Python 3.8.9 64-bit",
   "language": "python",
   "name": "python3"
  },
  "language_info": {
   "codemirror_mode": {
    "name": "ipython",
    "version": 3
   },
   "file_extension": ".py",
   "mimetype": "text/x-python",
   "name": "python",
   "nbconvert_exporter": "python",
   "pygments_lexer": "ipython3",
   "version": "3.8.9"
  },
  "orig_nbformat": 4,
  "vscode": {
   "interpreter": {
    "hash": "31f2aee4e71d21fbe5cf8b01ff0e069b9275f58929596ceb00d14d90e3e16cd6"
   }
  }
 },
 "nbformat": 4,
 "nbformat_minor": 2
}
